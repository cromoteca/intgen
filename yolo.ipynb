{
 "cells": [
  {
   "cell_type": "code",
   "execution_count": null,
   "metadata": {},
   "outputs": [],
   "source": [
    "path_data_yaml = 'C:/Users/Shadow/Datasets/intgen/data.yaml'\n",
    "path_test_images = 'C:/Users/Shadow/ShadowDrive/testImages/'"
   ]
  },
  {
   "cell_type": "code",
   "execution_count": null,
   "metadata": {},
   "outputs": [],
   "source": [
    "!pip3 install -U ultralytics\n",
    "!pip3 uninstall -y wandb\n",
    "from ultralytics import YOLO\n",
    "img_size = 640"
   ]
  },
  {
   "cell_type": "code",
   "execution_count": null,
   "metadata": {},
   "outputs": [],
   "source": [
    "#model = YOLO(\"intgen.yaml\")\n",
    "model = YOLO(\"yolov8s.pt\")\n",
    "model.train(data=path_data_yaml, epochs=50, imgsz=img_size, fliplr=0.0, flipud=0.0, shear=0.0, perspective=0.0)"
   ]
  },
  {
   "cell_type": "code",
   "execution_count": null,
   "metadata": {},
   "outputs": [],
   "source": [
    "import os\n",
    "import glob\n",
    "\n",
    "image_files = glob.glob(path_test_images + '*.png') + glob.glob(path_test_images + '*.jpg') + glob.glob(path_test_images + '*.jpeg')\n",
    "\n",
    "model = YOLO('runs/detect/train/weights/best.pt')\n",
    "classes_components = [0, 1, 2, 6, 9, 13, 19, 22]\n",
    "classes_with_labels = [4, 5, 15, 20, 21, 23, 24]\n",
    "classes_layouts = [10, 12]\n",
    "\n",
    "# Iterate over the image files and execute the code for each file\n",
    "for image_path in image_files:\n",
    "    model.predict(image_path, save=True, show_labels=True, imgsz=img_size, classes=classes_components)\n",
    "os.rename(\"runs/detect/predict\", \"runs/detect/classes_components\")\n",
    "\n",
    "for image_path in image_files:\n",
    "    model.predict(image_path, save=True, show_labels=True, imgsz=img_size, classes=classes_with_labels)\n",
    "os.rename(\"runs/detect/predict\", \"runs/detect/classes_with_labels\")\n",
    "\n",
    "for image_path in image_files:\n",
    "    model.predict(image_path, save=True, show_labels=True, imgsz=img_size, classes=classes_layouts)\n",
    "os.rename(\"runs/detect/predict\", \"runs/detect/classes_layouts\")"
   ]
  },
  {
   "cell_type": "code",
   "execution_count": null,
   "metadata": {},
   "outputs": [],
   "source": [
    "model = YOLO('runs/detect/train/weights/best.pt')\n",
    "model.export(format='onnx')"
   ]
  }
 ],
 "metadata": {
  "kernelspec": {
   "display_name": "ultralytics",
   "language": "python",
   "name": "python3"
  },
  "language_info": {
   "codemirror_mode": {
    "name": "ipython",
    "version": 3
   },
   "file_extension": ".py",
   "mimetype": "text/x-python",
   "name": "python",
   "nbconvert_exporter": "python",
   "pygments_lexer": "ipython3",
   "version": "3.11.3"
  },
  "orig_nbformat": 4
 },
 "nbformat": 4,
 "nbformat_minor": 2
}
