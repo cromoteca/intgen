{
 "cells": [
  {
   "cell_type": "code",
   "execution_count": null,
   "metadata": {},
   "outputs": [],
   "source": [
    "!pip3 install -U ultralytics\n",
    "from ultralytics import YOLO\n",
    "#model = YOLO(\"../models/intgen-06.16.2/best.pt\")\n",
    "model = YOLO(\"intgen.yaml\")\n",
    "#model = YOLO(\"yolov8s.pt\")\n",
    "img_size = 640"
   ]
  },
  {
   "cell_type": "code",
   "execution_count": null,
   "metadata": {},
   "outputs": [],
   "source": [
    "model.train(data=\"C:\\\\Users\\\\Shadow\\\\Datasets\\\\intgen\\\\data.yaml\", epochs=30, imgsz=img_size, batch=-1)"
   ]
  },
  {
   "cell_type": "code",
   "execution_count": null,
   "metadata": {},
   "outputs": [],
   "source": [
    "# import os\n",
    "import glob\n",
    "directory_path = 'C:/Users/Shadow/ShadowDrive/testImages/'\n",
    "# img_size = 640  # Assuming this is the desired image size\n",
    "\n",
    "# Get a list of all image files in the directory\n",
    "image_files = glob.glob(directory_path + '*.png') + glob.glob(directory_path + '*.jpg') + glob.glob(directory_path + '*.jpeg')\n",
    "\n",
    "model = YOLO('runs/detect/train/weights/best.pt')\n",
    "\n",
    "# Iterate over the image files and execute the code for each file\n",
    "for image_path in image_files:\n",
    "    model.predict(image_path, save=True, show_labels=True, imgsz=img_size, classes=[0,1,2,6,9,13,19,22])\n"
   ]
  }
 ],
 "metadata": {
  "kernelspec": {
   "display_name": "ultralytics",
   "language": "python",
   "name": "python3"
  },
  "language_info": {
   "codemirror_mode": {
    "name": "ipython",
    "version": 3
   },
   "file_extension": ".py",
   "mimetype": "text/x-python",
   "name": "python",
   "nbconvert_exporter": "python",
   "pygments_lexer": "ipython3",
   "version": "3.11.3"
  },
  "orig_nbformat": 4
 },
 "nbformat": 4,
 "nbformat_minor": 2
}
